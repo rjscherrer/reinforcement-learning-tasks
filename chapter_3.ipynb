{
  "nbformat": 4,
  "nbformat_minor": 0,
  "metadata": {
    "colab": {
      "provenance": [],
      "authorship_tag": "ABX9TyMqoh1qkLeQSB1IWe1xmdJE",
      "include_colab_link": true
    },
    "kernelspec": {
      "name": "python3",
      "display_name": "Python 3"
    },
    "language_info": {
      "name": "python"
    }
  },
  "cells": [
    {
      "cell_type": "markdown",
      "metadata": {
        "id": "view-in-github",
        "colab_type": "text"
      },
      "source": [
        "<a href=\"https://colab.research.google.com/github/rjscherrer/reinforcement-learning-tasks/blob/main/chapter_3.ipynb\" target=\"_parent\"><img src=\"https://colab.research.google.com/assets/colab-badge.svg\" alt=\"Open In Colab\"/></a>"
      ]
    },
    {
      "cell_type": "markdown",
      "source": [
        "# Task 3.1\n",
        "\n",
        "\n",
        "*   Crypto Trading (States: [volatility, closing price, bid ask spread], Actions: [buy/sell/hold], Rewards: price in t+1)\n",
        "*   Tablut (States: [positions of figures, number of white/black figures], Actions: [set stone to field XY], Rewards: Number representing the quality of the play)\n",
        "*   Sports Training (States: [weight, nutrition], Actions: [set level of training intensity], Rewards: [performance improvement]) --> in this case, the state does not fulfill the Markov property as the state does not include information about all aspects of the past agent-environment interaction that make a difference for the future (e.g. previous training)\n",
        "\n"
      ],
      "metadata": {
        "id": "Khxbgzr4EHeA"
      }
    },
    {
      "cell_type": "markdown",
      "source": [
        "# Task 3.2\n",
        "No it isn't. A clear exception would be world peace. One issue would be to define a numeric value for the reward representing world peace. Furthermore, the Markov property would be violated as we can't define a state including all information of past agent-environment interaction that make a difference for the future."
      ],
      "metadata": {
        "id": "SAzsw_UGJpzJ"
      }
    },
    {
      "cell_type": "markdown",
      "source": [
        "# Task 3.3\n",
        "The right place to draw the line between agent and environment is there, where the agent's absolute control over the things used to fulfill the task ends.\n",
        "In the example of driving (if the goal is moving the car safely), the line should be drawn at the actions which control the car directly (e.g. braking, steering). The mentioned example of considering where the rubber meets the road as actions would not be a good decision as this is outside of the agent's absolute control (e.g. temperature, road width). Furthermore, drawing the line at the choice of where to drive would not be a good decision because the mapping of actions and rewards would be impossible.\n",
        "\n",
        "A main point to consider is that many different agents may be operating at once, each with its own boundary. Therefore, depending on the goal that is important when driving a car, the problem could be separated into different agents."
      ],
      "metadata": {
        "id": "W37ZDxsvMMF2"
      }
    },
    {
      "cell_type": "markdown",
      "source": [
        "# Task 3.4\n",
        "\n",
        "The rewards are deterministic (there is only one possible reward for each combination of $s$, $a$ and $s'$). Therefore, the dynamics table does look almost identical to the transition table (column names change).\n",
        "\n",
        "\\begin{array}{c c c c c}\n",
        "s    & a        & s'   & r          & p(s',r | s,a) \\\\\n",
        "high & search   & high & r_{search} & \\alpha        \\\\\n",
        "high & search   & low  & r_{search} & 1- \\alpha     \\\\\n",
        "low  & search   & high & -3         & 1-\\beta       \\\\\n",
        "low  & search   & low  & r_{search} & \\beta         \\\\\n",
        "high & wait     & high & r_{wait}   & 1             \\\\\n",
        "high & wait     & low  & -          & 0             \\\\\n",
        "low  & wait     & high & -          & 0             \\\\\n",
        "low  & wait     & low  & r_{wait}   & 1             \\\\\n",
        "low  & recharge & high & 0          & 1             \\\\\n",
        "low  & recharge & low  & -          & 0            \n",
        "\\end{array}"
      ],
      "metadata": {
        "id": "jfjTlwOS0AtL"
      }
    },
    {
      "cell_type": "markdown",
      "source": [
        "# Task 3.5\n",
        "We simply have to include the terminal state into the set of possible states $\\mathcal{S}^+$\n",
        "\n",
        "$$\n",
        "\\begin{align}\n",
        "\\sum_{s'\\ \\in \\ \\mathcal{S}^+}\\sum_{r\\ \\in \\ \\mathcal R} p(s',r|s,a) = 1, \\text{for all } s \\in \\mathcal{S^+}, a \\in \\mathcal{A(\\mathcal{S})}\n",
        "\\end{align}\n",
        "$$"
      ],
      "metadata": {
        "id": "sluMq_XvCtrI"
      }
    },
    {
      "cell_type": "markdown",
      "source": [
        "# Task 3.6\n",
        "For both the episodic and continuing approach, we have to keep in mind the following explained on the episodic approach:\n",
        "The task fails at one specific time index $T$ (pole falls over) but the return $G_t$ can be calculated at each possible time step $t$. Therefore, in both cases we need to incorporate bot $T$ and $t$ to get the correct discount rates. Furthermore, $R_{t+1}$ does not get discounted.\n",
        "\n",
        "Episodic Approach: $G_t = -\\gamma^{T-t-1}$\n",
        "\n",
        "Continuing Approach: $G_t = \\sum_{\\mathcal{k} \\in \\mathcal{K}}-\\gamma^{\\mathcal k-t-1}$ where $\\mathcal{K}$ contains all time steps where the task failed"
      ],
      "metadata": {
        "id": "l7ZPN4-d87lR"
      }
    },
    {
      "cell_type": "markdown",
      "source": [
        "# Task 3.7\n",
        "The issue with this approach is that every single episode which leads to an escape from the maze gets the same return $G_t = +1$. Therefore, the algorithm won't learn to escape fast. It was not effectively communicated to the agent what we wanted to achieve. We should either take the time it took to escape into account to calculate the reward or the task should be reformulated in a continuous setting including discounting of rewards."
      ],
      "metadata": {
        "id": "NlMWjIVP8EJ2"
      }
    },
    {
      "cell_type": "markdown",
      "source": [
        "# Task 3.8\n",
        "$G_5 = 0$\n",
        "\n",
        "$G_4 = R_5 + \\gamma G_5 = 2$\n",
        "\n",
        "$G_3 = R_4 + \\gamma G_4 = 4$\n",
        "\n",
        "$G_2 = R_3 + \\gamma G_3 = 8$\n",
        "\n",
        "$G_1 = R_2 + \\gamma G_2 = 6$\n",
        "\n",
        "$G_0 = R_1 + \\gamma G_1 = 2$"
      ],
      "metadata": {
        "id": "gGkLjl2DD8XP"
      }
    },
    {
      "cell_type": "markdown",
      "source": [
        "# Task 3.9\n",
        "$G_0 = R_{t+1} + \\gamma G_{t+1} = R_{t+1} + R \\times \\sum^\\infty_{k=1}\\gamma^k = R_{t+1} + R \\times (\\frac{1}{1-\\gamma}-1) = 2 + 7 * 9 = 65$ with $R = 7$\n",
        "\n",
        "$G_1 = R \\times \\sum^\\infty_{k=0}\\gamma^k = R \\times \\frac{1}{1-\\gamma} = 7 * 10 = 70$ with $R = 7$"
      ],
      "metadata": {
        "id": "1A-1qgECGDpq"
      }
    },
    {
      "cell_type": "markdown",
      "source": [
        "# Task 3.10\n",
        "First, we start by looking at the properties of a finite sum:\n",
        "\n",
        "$S_N = \\sum^N_{k=0}\\gamma^k = 1 + \\gamma + \\gamma^2 + ... + \\gamma^N = 1 + \\gamma(1 + \\gamma + \\gamma^2 + ... + \\gamma^{N-1}) = 1 + \\gamma S_{N-1}$\n",
        "\n",
        "If we consider the sum going to infinity: $S_\\infty \\approx S_{\\infty - 1}$\n",
        "\n",
        "$S_\\infty = 1 + \\gamma S_\\infty$\n",
        "\n",
        "Therefore:\n",
        "\n",
        "$S_\\infty = \\frac{1}{1-\\gamma}$"
      ],
      "metadata": {
        "id": "-8o6_9Z5OFtL"
      }
    }
  ]
}